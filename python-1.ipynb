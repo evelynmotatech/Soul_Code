{
 "cells": [
  {
   "cell_type": "code",
   "execution_count": null,
   "metadata": {},
   "outputs": [],
   "source": [
    "x = 10.36\n",
    "print(x, type(x))\n",
    "\n",
    "cidade = \"Rio de Janeiro\"\n",
    "print(cidade, type(cidade))\n",
    "\n",
    "casada = False\n",
    "print(casada, type(casada))\n",
    "\n",
    "y = 2*x\n",
    "print(y, type(y))\n",
    "\n",
    "# input é uma função que recebe dados do usuário. Tudo que é lido por input() é considerado uma string (str).\n"
   ]
  },
  {
   "cell_type": "code",
   "execution_count": null,
   "metadata": {},
   "outputs": [],
   "source": [
    "x = 2\n",
    "y = 3\n",
    "\n",
    "print(x + y)\n",
    "print(x - y)\n",
    "print(x * y)\n",
    "print(x / y)"
   ]
  },
  {
   "cell_type": "code",
   "execution_count": null,
   "metadata": {},
   "outputs": [],
   "source": [
    "x = 7\n",
    "y = 3\n",
    "\n",
    "print(x ** y)\n",
    "print(x // y)\n",
    "print(x % y)"
   ]
  },
  {
   "cell_type": "code",
   "execution_count": null,
   "metadata": {},
   "outputs": [],
   "source": [
    "tem_cafe = True\n",
    "tem_pao = False\n",
    "\n",
    "print(not tem_cafe) # negar uma expressão lógica usando o not\n",
    "print(tem_cafe or tem_pao) # verdadeiro se condição 1 for verdadeira ou condição 2 for verdadeira\n",
    "print(tem_cafe and tem_pao) #verdadeiro se condição 1 for verdadeira e condição 2 for verdadeira"
   ]
  },
  {
   "cell_type": "code",
   "execution_count": null,
   "metadata": {},
   "outputs": [],
   "source": [
    "dolar = 5.3\n",
    "real = 1\n",
    "print(dolar > real) # True maior que\n",
    "print(dolar < real) # False menor que\n",
    "print(dolar == real) # False igual\n",
    "print(dolar != real) # True diferente\n",
    "print(dolar >= real) # True maior ou igual\n",
    "print(dolar <= real) # False menor ou igual"
   ]
  },
  {
   "cell_type": "code",
   "execution_count": null,
   "metadata": {},
   "outputs": [],
   "source": [
    "idade = input(\"Digite sua idade: \")\n",
    "print(idade, type(idade))\n",
    "idade = int(idade)\n",
    "print(idade, type(idade))\t"
   ]
  },
  {
   "cell_type": "code",
   "execution_count": null,
   "metadata": {},
   "outputs": [],
   "source": [
    "salario_mensal = input(\"Digite seu salário: \")\n",
    "salario_mensal = float(salario_mensal)\n",
    "\n",
    "gasto_mensal = input(\"Digite o gasto mensal: \")\n",
    "gasto_mensal = float(gasto_mensal)\n",
    "\n",
    "salario_total = salario_mensal * 12\n",
    "gasto_total = gasto_mensal * 12\n",
    "\n",
    "montante_economizado = salario_total - gasto_total\n",
    "print('O montante que você pode economizar por ano é: ' , montante_economizado)\n"
   ]
  },
  {
   "cell_type": "code",
   "execution_count": null,
   "metadata": {},
   "outputs": [
    {
     "name": "stdout",
     "output_type": "stream",
     "text": [
      "Você pode comprar a passagem\n"
     ]
    }
   ],
   "source": [
    "valor_passagem = 4.30\n",
    "valor_corrida = input(\"Digite o valor da corrida: \")\n",
    "\n",
    "if float(valor_corrida) <= valor_passagem * 5:\n",
    "  print(\"Você pode comprar a passagem\")\n",
    "else:\n",
    "  print(\"Vá de ônibus\")"
   ]
  },
  {
   "cell_type": "code",
   "execution_count": null,
   "metadata": {},
   "outputs": [
    {
     "name": "stdout",
     "output_type": "stream",
     "text": [
      "Pegue um ônibus\n"
     ]
    }
   ],
   "source": [
    "valor_passagem = 4.30\n",
    "valor_corrida = input(\"Digite o valor da corrida: \")\n",
    "\n",
    "if float(valor_corrida) <= valor_passagem * 5:\n",
    "  print(\"Você pode comprar a passagem\")\n",
    "else:\n",
    "  if float (valor_corrida) <= valor_passagem * 6:\n",
    "    print(\"Aguarde um momento, o valor pode abaixar\")\n",
    "  else:\n",
    "    print(\"Pegue um ônibus\")\n",
    "  "
   ]
  },
  {
   "cell_type": "code",
   "execution_count": null,
   "metadata": {},
   "outputs": [],
   "source": [
    "valor_passagem = 4.30\n",
    "valor_corrida = input(\"Digite o valor da corrida: \")\n",
    "\n",
    "if float (valor_corrida) <= valor_passagem * 5: #if condição 1 \n",
    "  print(\"Você pode comprar a passagem\")\n",
    "elif float (valor_corrida) <= valor_passagem * 6: #else if condição 2\n",
    "  print(\"Aguarde um momento, o valor pode abaixar\")\n",
    "else: #else condição 3\n",
    "  print(\"Pegue um ônibus\")"
   ]
  },
  {
   "cell_type": "code",
   "execution_count": null,
   "metadata": {},
   "outputs": [
    {
     "name": "stdout",
     "output_type": "stream",
     "text": [
      "1 item limpo\n",
      "2 itens limpos\n",
      "3 itens limpos\n",
      "4 itens limpos\n",
      "5 itens limpos\n",
      "6 itens limpos\n",
      "7 itens limpos\n",
      "8 itens limpos\n",
      "9 itens limpos\n",
      "10 itens limpos\n",
      "Louça limpa\n"
     ]
    }
   ],
   "source": [
    "contador = 0\n",
    "\n",
    "while contador < 10:\n",
    "  contador = contador + 1\n",
    "  if contador == 1:\n",
    "    print (contador, \"item limpo\")\n",
    "  else:\n",
    "    print(contador, \"itens limpos\")\n",
    "\n",
    "print(\"Louça limpa\")"
   ]
  },
  {
   "cell_type": "code",
   "execution_count": 1,
   "metadata": {},
   "outputs": [
    {
     "name": "stdout",
     "output_type": "stream",
     "text": [
      "Acesso permitido\n"
     ]
    }
   ],
   "source": [
    "texto = input(\"Digite sua senha:\")\n",
    "\n",
    "while texto != \"python\":\n",
    "  texto = input(\"Senha inválida. Digite sua senha:\")\n",
    "  \n",
    "print(\"Acesso permitido\")"
   ]
  }
 ],
 "metadata": {
  "interpreter": {
   "hash": "629d0b3548b7172657d8f0ec5dca5ec4b579f2a0100d7741f173098f42dd90b4"
  },
  "kernelspec": {
   "display_name": "Python 3.10.0 64-bit",
   "language": "python",
   "name": "python3"
  },
  "language_info": {
   "codemirror_mode": {
    "name": "ipython",
    "version": 3
   },
   "file_extension": ".py",
   "mimetype": "text/x-python",
   "name": "python",
   "nbconvert_exporter": "python",
   "pygments_lexer": "ipython3",
   "version": "3.10.0"
  },
  "orig_nbformat": 4
 },
 "nbformat": 4,
 "nbformat_minor": 2
}
